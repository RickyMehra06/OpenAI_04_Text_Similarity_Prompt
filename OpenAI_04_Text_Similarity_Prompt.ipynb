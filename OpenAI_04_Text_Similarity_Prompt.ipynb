{
 "cells": [
  {
   "cell_type": "code",
   "execution_count": 1,
   "id": "a710ee43",
   "metadata": {},
   "outputs": [],
   "source": [
    "import pandas as pd\n",
    "import tiktoken\n",
    "import openai\n",
    "import langchain\n",
    "\n",
    "import os, sys\n",
    "from uuid import uuid4\n",
    "\n",
    "from dotenv import load_dotenv\n",
    "load_dotenv()"
   ]
  },
  {
   "cell_type": "code",
   "execution_count": 2,
   "id": "1bee079c",
   "metadata": {},
   "outputs": [],
   "source": [
    "#load openAI api key\n",
    "\n",
    "openai.api_key = os.getenv(\"OPENAI_API_KEY\")"
   ]
  },
  {
   "cell_type": "code",
   "execution_count": 3,
   "id": "6b2ff609",
   "metadata": {},
   "outputs": [
    {
     "data": {
      "text/plain": [
       "<Encoding 'gpt2'>"
      ]
     },
     "execution_count": 3,
     "metadata": {},
     "output_type": "execute_result"
    }
   ],
   "source": [
    "tiktoken_encoding = tiktoken.get_encoding(\"gpt2\")\n",
    "tiktoken_encoding"
   ]
  },
  {
   "cell_type": "code",
   "execution_count": 6,
   "id": "34dfeb4e",
   "metadata": {},
   "outputs": [
    {
     "data": {
      "text/plain": [
       "[1212, 318, 262, 717, 2420]"
      ]
     },
     "execution_count": 6,
     "metadata": {},
     "output_type": "execute_result"
    }
   ],
   "source": [
    "encoded_text = tiktoken_encoding.encode(\"This is the first text\")\n",
    "encoded_text"
   ]
  },
  {
   "cell_type": "code",
   "execution_count": 21,
   "id": "3fd07d09",
   "metadata": {},
   "outputs": [
    {
     "name": "stdout",
     "output_type": "stream",
     "text": [
      "{'vocabulary_size': 50257, 'embedding_dim': 768}\n"
     ]
    }
   ],
   "source": [
    "import transformers\n",
    "\n",
    "gpt2_model = transformers.AutoModelForCausalLM.from_pretrained(\"gpt2\")\n",
    "\n",
    "encoder_details = {\n",
    "    \"vocabulary_size\": gpt2_model.config.vocab_size,\n",
    "    \"embedding_dim\": gpt2_model.config.n_embd,\n",
    "}\n",
    "\n",
    "print(encoder_details)\n"
   ]
  },
  {
   "cell_type": "code",
   "execution_count": 27,
   "id": "244e084e",
   "metadata": {},
   "outputs": [
    {
     "data": {
      "text/plain": [
       "GPT2TokenizerFast(name_or_path='gpt2', vocab_size=50257, model_max_length=1024, is_fast=True, padding_side='right', truncation_side='right', special_tokens={'bos_token': '<|endoftext|>', 'eos_token': '<|endoftext|>', 'unk_token': '<|endoftext|>'}, clean_up_tokenization_spaces=True)"
      ]
     },
     "execution_count": 27,
     "metadata": {},
     "output_type": "execute_result"
    }
   ],
   "source": [
    "gpt2_tokenizer = transformers.AutoTokenizer.from_pretrained(\"gpt2\")\n",
    "gpt2_tokenizer"
   ]
  },
  {
   "cell_type": "code",
   "execution_count": 32,
   "id": "f705486a",
   "metadata": {},
   "outputs": [
    {
     "data": {
      "text/plain": [
       "[1212, 318, 262, 717, 2420]"
      ]
     },
     "execution_count": 32,
     "metadata": {},
     "output_type": "execute_result"
    }
   ],
   "source": [
    "encoded_text = gpt2_tokenizer.encode(\"This is the first text\")\n",
    "encoded_text"
   ]
  },
  {
   "cell_type": "code",
   "execution_count": 34,
   "id": "c78e1e6b",
   "metadata": {},
   "outputs": [
    {
     "data": {
      "text/html": [
       "<div>\n",
       "<style scoped>\n",
       "    .dataframe tbody tr th:only-of-type {\n",
       "        vertical-align: middle;\n",
       "    }\n",
       "\n",
       "    .dataframe tbody tr th {\n",
       "        vertical-align: top;\n",
       "    }\n",
       "\n",
       "    .dataframe thead th {\n",
       "        text-align: right;\n",
       "    }\n",
       "</style>\n",
       "<table border=\"1\" class=\"dataframe\">\n",
       "  <thead>\n",
       "    <tr style=\"text-align: right;\">\n",
       "      <th></th>\n",
       "      <th>filename</th>\n",
       "      <th>file_content</th>\n",
       "      <th>tokens</th>\n",
       "      <th>embeddings</th>\n",
       "      <th>id</th>\n",
       "    </tr>\n",
       "  </thead>\n",
       "  <tbody>\n",
       "    <tr>\n",
       "      <th>0</th>\n",
       "      <td>Text_file_1.txt</td>\n",
       "      <td>RNN (Recurrent Neural Network):\\nImagine you'r...</td>\n",
       "      <td>395</td>\n",
       "      <td>[-0.0245195385068655, 0.007557663135230541, 0....</td>\n",
       "      <td>5bafa779-3329-47e1-a525-21d9d9343161</td>\n",
       "    </tr>\n",
       "    <tr>\n",
       "      <th>1</th>\n",
       "      <td>Text_file_2.txt</td>\n",
       "      <td>In a confusion matrix, TP, TN, FP, and FN repr...</td>\n",
       "      <td>441</td>\n",
       "      <td>[-0.010267744772136211, 0.0009929778752848506,...</td>\n",
       "      <td>eba69c68-8ded-44cc-bab3-797f28b9c17d</td>\n",
       "    </tr>\n",
       "  </tbody>\n",
       "</table>\n",
       "</div>"
      ],
      "text/plain": [
       "          filename                                       file_content  tokens  \\\n",
       "0  Text_file_1.txt  RNN (Recurrent Neural Network):\\nImagine you'r...     395   \n",
       "1  Text_file_2.txt  In a confusion matrix, TP, TN, FP, and FN repr...     441   \n",
       "\n",
       "                                          embeddings  \\\n",
       "0  [-0.0245195385068655, 0.007557663135230541, 0....   \n",
       "1  [-0.010267744772136211, 0.0009929778752848506,...   \n",
       "\n",
       "                                     id  \n",
       "0  5bafa779-3329-47e1-a525-21d9d9343161  \n",
       "1  eba69c68-8ded-44cc-bab3-797f28b9c17d  "
      ]
     },
     "execution_count": 34,
     "metadata": {},
     "output_type": "execute_result"
    }
   ],
   "source": [
    "contents = []\n",
    "\n",
    "tiktoken_encoding = tiktoken.get_encoding(\"gpt2\")\n",
    "\n",
    "path = r\"C:\\Users\\Ricky\\Sample_Datasets\\Text_files\"\n",
    "\n",
    "for file in os.listdir(path):\n",
    "    with open(os.path.join(path,file), \"r\") as f:\n",
    "        file_content = f.read()\n",
    "        tokens = tiktoken_encoding.encode(file_content)\n",
    "        total_tokens = len(tokens)\n",
    "        contents.append((file, file_content, total_tokens))\n",
    "        \n",
    "df = pd.DataFrame(contents, columns=['filename', 'file_content', 'tokens'])\n",
    "\n",
    "df['embeddings'] = df.file_content.apply(lambda x: openai.Embedding.create(input=x, engine='text-embedding-ada-002')['data'][0]['embedding'])\n",
    "df['id'] = [str(uuid4()) for i in range (len(df))]\n",
    "df.to_excel('Text_files_Embeddings.xlsx')\n",
    "df.head()"
   ]
  },
  {
   "cell_type": "code",
   "execution_count": 37,
   "id": "a7426474",
   "metadata": {},
   "outputs": [
    {
     "data": {
      "text/html": [
       "<div>\n",
       "<style scoped>\n",
       "    .dataframe tbody tr th:only-of-type {\n",
       "        vertical-align: middle;\n",
       "    }\n",
       "\n",
       "    .dataframe tbody tr th {\n",
       "        vertical-align: top;\n",
       "    }\n",
       "\n",
       "    .dataframe thead th {\n",
       "        text-align: right;\n",
       "    }\n",
       "</style>\n",
       "<table border=\"1\" class=\"dataframe\">\n",
       "  <thead>\n",
       "    <tr style=\"text-align: right;\">\n",
       "      <th></th>\n",
       "      <th>filename</th>\n",
       "      <th>file_content</th>\n",
       "      <th>tokens</th>\n",
       "      <th>embeddings</th>\n",
       "      <th>id</th>\n",
       "      <th>len</th>\n",
       "    </tr>\n",
       "  </thead>\n",
       "  <tbody>\n",
       "    <tr>\n",
       "      <th>0</th>\n",
       "      <td>Text_file_1.txt</td>\n",
       "      <td>RNN (Recurrent Neural Network):\\nImagine you'r...</td>\n",
       "      <td>395</td>\n",
       "      <td>[-0.0245195385068655, 0.007557663135230541, 0....</td>\n",
       "      <td>5bafa779-3329-47e1-a525-21d9d9343161</td>\n",
       "      <td>1536</td>\n",
       "    </tr>\n",
       "    <tr>\n",
       "      <th>1</th>\n",
       "      <td>Text_file_2.txt</td>\n",
       "      <td>In a confusion matrix, TP, TN, FP, and FN repr...</td>\n",
       "      <td>441</td>\n",
       "      <td>[-0.010267744772136211, 0.0009929778752848506,...</td>\n",
       "      <td>eba69c68-8ded-44cc-bab3-797f28b9c17d</td>\n",
       "      <td>1536</td>\n",
       "    </tr>\n",
       "  </tbody>\n",
       "</table>\n",
       "</div>"
      ],
      "text/plain": [
       "          filename                                       file_content  tokens  \\\n",
       "0  Text_file_1.txt  RNN (Recurrent Neural Network):\\nImagine you'r...     395   \n",
       "1  Text_file_2.txt  In a confusion matrix, TP, TN, FP, and FN repr...     441   \n",
       "\n",
       "                                          embeddings  \\\n",
       "0  [-0.0245195385068655, 0.007557663135230541, 0....   \n",
       "1  [-0.010267744772136211, 0.0009929778752848506,...   \n",
       "\n",
       "                                     id   len  \n",
       "0  5bafa779-3329-47e1-a525-21d9d9343161  1536  \n",
       "1  eba69c68-8ded-44cc-bab3-797f28b9c17d  1536  "
      ]
     },
     "execution_count": 37,
     "metadata": {},
     "output_type": "execute_result"
    }
   ],
   "source": [
    "df['len'] = df['embeddings'].apply(len)\n",
    "df.head()"
   ]
  },
  {
   "cell_type": "code",
   "execution_count": 60,
   "id": "ae78883f",
   "metadata": {},
   "outputs": [
    {
     "data": {
      "text/html": [
       "<div>\n",
       "<style scoped>\n",
       "    .dataframe tbody tr th:only-of-type {\n",
       "        vertical-align: middle;\n",
       "    }\n",
       "\n",
       "    .dataframe tbody tr th {\n",
       "        vertical-align: top;\n",
       "    }\n",
       "\n",
       "    .dataframe thead th {\n",
       "        text-align: right;\n",
       "    }\n",
       "</style>\n",
       "<table border=\"1\" class=\"dataframe\">\n",
       "  <thead>\n",
       "    <tr style=\"text-align: right;\">\n",
       "      <th></th>\n",
       "      <th>filename</th>\n",
       "      <th>file_content</th>\n",
       "      <th>tokens</th>\n",
       "      <th>embeddings</th>\n",
       "      <th>id</th>\n",
       "    </tr>\n",
       "  </thead>\n",
       "  <tbody>\n",
       "    <tr>\n",
       "      <th>0</th>\n",
       "      <td>Text_file_1.txt</td>\n",
       "      <td>RNN (Recurrent Neural Network):\\nImagine you'r...</td>\n",
       "      <td>395</td>\n",
       "      <td>[-0.0245195422321558, 0.007557664066553116, 0....</td>\n",
       "      <td>86fc9c4e-4168-4cda-a3de-6d21f9c05a31</td>\n",
       "    </tr>\n",
       "    <tr>\n",
       "      <th>1</th>\n",
       "      <td>Text_file_2.txt</td>\n",
       "      <td>In a confusion matrix, TP, TN, FP, and FN repr...</td>\n",
       "      <td>441</td>\n",
       "      <td>[-0.010267744772136211, 0.0009929778752848506,...</td>\n",
       "      <td>eff0a9e7-c103-413c-94f9-335e2ff19ed3</td>\n",
       "    </tr>\n",
       "  </tbody>\n",
       "</table>\n",
       "</div>"
      ],
      "text/plain": [
       "          filename                                       file_content  tokens  \\\n",
       "0  Text_file_1.txt  RNN (Recurrent Neural Network):\\nImagine you'r...     395   \n",
       "1  Text_file_2.txt  In a confusion matrix, TP, TN, FP, and FN repr...     441   \n",
       "\n",
       "                                          embeddings  \\\n",
       "0  [-0.0245195422321558, 0.007557664066553116, 0....   \n",
       "1  [-0.010267744772136211, 0.0009929778752848506,...   \n",
       "\n",
       "                                     id  \n",
       "0  86fc9c4e-4168-4cda-a3de-6d21f9c05a31  \n",
       "1  eff0a9e7-c103-413c-94f9-335e2ff19ed3  "
      ]
     },
     "execution_count": 60,
     "metadata": {},
     "output_type": "execute_result"
    }
   ],
   "source": [
    "import uuid\n",
    "df['id'] = [str(uuid4()) for i in range (len(df))]\n",
    "df.to_excel('Text_files_Embeddings.xlsx')\n",
    "df.head()"
   ]
  },
  {
   "cell_type": "code",
   "execution_count": 61,
   "id": "9e97db39",
   "metadata": {},
   "outputs": [
    {
     "name": "stderr",
     "output_type": "stream",
     "text": [
      "C:\\Users\\Ricky\\anaconda3\\envs\\tensorflow\\lib\\site-packages\\pinecone\\index.py:4: TqdmWarning: IProgress not found. Please update jupyter and ipywidgets. See https://ipywidgets.readthedocs.io/en/stable/user_install.html\n",
      "  from tqdm.autonotebook import tqdm\n"
     ]
    }
   ],
   "source": [
    "from langchain.vectorstores import pinecone\n",
    "from langchain.embeddings.openai import OpenAIEmbeddings\n",
    "import pinecone\n",
    "\n",
    "EMBEDDING_MODEL = \"Text-embedding-ada-002\"\n",
    "embeddings = OpenAIEmbeddings(openai_api_key=openai.api_key)"
   ]
  },
  {
   "cell_type": "code",
   "execution_count": 70,
   "id": "6cb6b348",
   "metadata": {},
   "outputs": [
    {
     "name": "stdout",
     "output_type": "stream",
     "text": [
      "Pinecone index is created\n"
     ]
    }
   ],
   "source": [
    "import pinecone\n",
    "\n",
    "pinecone.init(\n",
    "    api_key = os.getenv(\"PINECONE_API_KEY\"),\n",
    "    environment = \"gcp-starter\"\n",
    ")\n",
    "\n",
    "index_name = \"test-1\"\n",
    "\n",
    "if index_name not in pinecone.list_indexes():\n",
    "    pinecone.create_index(index_name, dimension = 1536, metric='cosine')\n",
    "    print(\"Pinecone index is created\")\n",
    "    \n",
    "index = pinecone.Index(index_name)"
   ]
  },
  {
   "cell_type": "code",
   "execution_count": 74,
   "id": "e878c411",
   "metadata": {},
   "outputs": [
    {
     "name": "stderr",
     "output_type": "stream",
     "text": [
      "100%|████████████████████████████████████████████████████████████████████████████████████| 1/1 [00:00<00:00,  1.48it/s]\n"
     ]
    }
   ],
   "source": [
    "from tqdm.auto import tqdm\n",
    "\n",
    "batch_size = 100 # how many embeddings we create and insert at once\n",
    "\n",
    "# Convert the DataFrame to a list of dictionaries\n",
    "chunks = df.to_dict(orient='records')\n",
    "\n",
    "# Upsert embeddings into Pinecone in batches of 100\n",
    "for i in tqdm (range(0, len(chunks), batch_size)):\n",
    "    i_end = min(len(chunks), i+batch_size)\n",
    "    meta_batch = chunks[i:i_end]\n",
    "    ids_batch = [x['id'] for x in meta_batch]\n",
    "    embeddings = [x['embeddings'] for x in meta_batch]\n",
    "    data = [ {\n",
    "    'filename': x['filename'],\n",
    "    'file_content': x['file_content']\n",
    "    } for x in meta_batch]\n",
    "    \n",
    "    to_upsert = list(zip(ids_batch, embeddings, data))\n",
    "    index.upsert(vectors=to_upsert)"
   ]
  },
  {
   "cell_type": "code",
   "execution_count": 76,
   "id": "2787ce2b",
   "metadata": {},
   "outputs": [
    {
     "data": {
      "text/plain": [
       "{'dimension': 1536,\n",
       " 'index_fullness': 2e-05,\n",
       " 'namespaces': {'': {'vector_count': 2}},\n",
       " 'total_vector_count': 2}"
      ]
     },
     "execution_count": 76,
     "metadata": {},
     "output_type": "execute_result"
    }
   ],
   "source": [
    "index.describe_index_stats()"
   ]
  },
  {
   "cell_type": "code",
   "execution_count": 83,
   "id": "4838acfc",
   "metadata": {},
   "outputs": [],
   "source": [
    "limit = 50\n",
    "\n",
    "def construct_prompt(query):\n",
    "    embedding_model = \"text-embedding-ada-002\"\n",
    "    embed_query = openai.Embedding.create(input=query, \n",
    "                                          engine=embedding_model)\n",
    "    \n",
    "    # retrieve from Pinecone\n",
    "    query_embeds = embed_query['data'][0]['embedding']\n",
    "    \n",
    "    # get relevant contexts (including the questions)\n",
    "    response = index.query(query_embeds, top_k=3, include_metadata=True)\n",
    "    contexts = [x['metadata']['file_content'] for x in response ['matches']]\n",
    "    \n",
    "    # build our prompt with the retrieved contexts included\n",
    "    prompt_start = (\"Answer the question based on the context below.\\n\\n Context: \\n\")\n",
    "    prompt_end = (f\"\\n\\nQuestion: {query}\\nAnswer: \")\n",
    "    \n",
    "    # append contexts until hitting limit\n",
    "    for i in range (1, len(contexts)):\n",
    "        if len(\"-\".join(contexts[:i])) >= limit:\n",
    "            prompt = (prompt_start + \"-\".join(contexts[:i-1]) + prompt_end)\n",
    "            break\n",
    "        elif i == len(contexts) - 1:\n",
    "            prompt = (prompt_start + \"-\".join(contexts) + prompt_end)\n",
    "    return prompt"
   ]
  },
  {
   "cell_type": "code",
   "execution_count": 84,
   "id": "eae51923",
   "metadata": {},
   "outputs": [
    {
     "data": {
      "text/plain": [
       "'Answer the question based on the context below.\\n\\n Context: \\n\\n\\nQuestion: what is RNN in 15 words?\\nAnswer: '"
      ]
     },
     "execution_count": 84,
     "metadata": {},
     "output_type": "execute_result"
    }
   ],
   "source": [
    "query = \"what is RNN in 15 words?\"\n",
    "prompt_with_context = construct_prompt(query)\n",
    "prompt_with_context"
   ]
  },
  {
   "cell_type": "code",
   "execution_count": 89,
   "id": "89100224",
   "metadata": {},
   "outputs": [
    {
     "data": {
      "text/plain": [
       "<OpenAIObject text_completion id=cmpl-7zoVG5O3WwCZrSig3uEKB2V1tQjDJ at 0x2439ad75d60> JSON: {\n",
       "  \"warning\": \"This model version is deprecated. Migrate before January 4, 2024 to avoid disruption of service. Learn more https://platform.openai.com/docs/deprecations\",\n",
       "  \"id\": \"cmpl-7zoVG5O3WwCZrSig3uEKB2V1tQjDJ\",\n",
       "  \"object\": \"text_completion\",\n",
       "  \"created\": 1694966498,\n",
       "  \"model\": \"text-davinci-003\",\n",
       "  \"choices\": [\n",
       "    {\n",
       "      \"text\": \" Recurrent Neural Network is a type of artificial neural network that processes data sequentially.\",\n",
       "      \"index\": 0,\n",
       "      \"logprobs\": null,\n",
       "      \"finish_reason\": \"stop\"\n",
       "    }\n",
       "  ],\n",
       "  \"usage\": {\n",
       "    \"prompt_tokens\": 29,\n",
       "    \"completion_tokens\": 17,\n",
       "    \"total_tokens\": 46\n",
       "  }\n",
       "}"
      ]
     },
     "execution_count": 89,
     "metadata": {},
     "output_type": "execute_result"
    }
   ],
   "source": [
    "result = openai.Completion.create(\n",
    "    engine = 'text-davinci-003',\n",
    "    prompt = prompt_with_context,\n",
    "    temperature = 0,\n",
    "    max_tokens = 350,\n",
    "    top_p = 1\n",
    ")\n",
    "result"
   ]
  },
  {
   "cell_type": "code",
   "execution_count": 90,
   "id": "d6b24fa1",
   "metadata": {},
   "outputs": [
    {
     "data": {
      "text/plain": [
       "' Recurrent Neural Network is a type of artificial neural network that processes data sequentially.'"
      ]
     },
     "execution_count": 90,
     "metadata": {},
     "output_type": "execute_result"
    }
   ],
   "source": [
    "result['choices'][0]['text']"
   ]
  },
  {
   "cell_type": "code",
   "execution_count": null,
   "id": "30e0ae18",
   "metadata": {},
   "outputs": [],
   "source": []
  }
 ],
 "metadata": {
  "kernelspec": {
   "display_name": "Python 3.9 (tensorflow)",
   "language": "python",
   "name": "tensorflow"
  },
  "language_info": {
   "codemirror_mode": {
    "name": "ipython",
    "version": 3
   },
   "file_extension": ".py",
   "mimetype": "text/x-python",
   "name": "python",
   "nbconvert_exporter": "python",
   "pygments_lexer": "ipython3",
   "version": "3.9.18"
  }
 },
 "nbformat": 4,
 "nbformat_minor": 5
}
